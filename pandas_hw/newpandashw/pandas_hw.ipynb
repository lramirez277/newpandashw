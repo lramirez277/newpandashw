{
 "cells": [
  {
   "cell_type": "markdown",
   "metadata": {},
   "source": [
    "### Note\n",
    "* Instructions have been included for each segment. You do not have to follow them exactly, but they are included to help you think through the steps."
   ]
  },
  {
   "cell_type": "code",
   "execution_count": 82,
   "metadata": {
    "scrolled": true
   },
   "outputs": [
    {
     "data": {
      "text/html": [
       "<div>\n",
       "<style scoped>\n",
       "    .dataframe tbody tr th:only-of-type {\n",
       "        vertical-align: middle;\n",
       "    }\n",
       "\n",
       "    .dataframe tbody tr th {\n",
       "        vertical-align: top;\n",
       "    }\n",
       "\n",
       "    .dataframe thead th {\n",
       "        text-align: right;\n",
       "    }\n",
       "</style>\n",
       "<table border=\"1\" class=\"dataframe\">\n",
       "  <thead>\n",
       "    <tr style=\"text-align: right;\">\n",
       "      <th></th>\n",
       "      <th>Purchase ID</th>\n",
       "      <th>SN</th>\n",
       "      <th>Age</th>\n",
       "      <th>Gender</th>\n",
       "      <th>Item ID</th>\n",
       "      <th>Item Name</th>\n",
       "      <th>Price</th>\n",
       "    </tr>\n",
       "  </thead>\n",
       "  <tbody>\n",
       "    <tr>\n",
       "      <td>0</td>\n",
       "      <td>0</td>\n",
       "      <td>Lisim78</td>\n",
       "      <td>20</td>\n",
       "      <td>Male</td>\n",
       "      <td>108</td>\n",
       "      <td>Extraction, Quickblade Of Trembling Hands</td>\n",
       "      <td>3.53</td>\n",
       "    </tr>\n",
       "    <tr>\n",
       "      <td>1</td>\n",
       "      <td>1</td>\n",
       "      <td>Lisovynya38</td>\n",
       "      <td>40</td>\n",
       "      <td>Male</td>\n",
       "      <td>143</td>\n",
       "      <td>Frenzied Scimitar</td>\n",
       "      <td>1.56</td>\n",
       "    </tr>\n",
       "    <tr>\n",
       "      <td>2</td>\n",
       "      <td>2</td>\n",
       "      <td>Ithergue48</td>\n",
       "      <td>24</td>\n",
       "      <td>Male</td>\n",
       "      <td>92</td>\n",
       "      <td>Final Critic</td>\n",
       "      <td>4.88</td>\n",
       "    </tr>\n",
       "    <tr>\n",
       "      <td>3</td>\n",
       "      <td>3</td>\n",
       "      <td>Chamassasya86</td>\n",
       "      <td>24</td>\n",
       "      <td>Male</td>\n",
       "      <td>100</td>\n",
       "      <td>Blindscythe</td>\n",
       "      <td>3.27</td>\n",
       "    </tr>\n",
       "    <tr>\n",
       "      <td>4</td>\n",
       "      <td>4</td>\n",
       "      <td>Iskosia90</td>\n",
       "      <td>23</td>\n",
       "      <td>Male</td>\n",
       "      <td>131</td>\n",
       "      <td>Fury</td>\n",
       "      <td>1.44</td>\n",
       "    </tr>\n",
       "  </tbody>\n",
       "</table>\n",
       "</div>"
      ],
      "text/plain": [
       "   Purchase ID             SN  Age Gender  Item ID  \\\n",
       "0            0        Lisim78   20   Male      108   \n",
       "1            1    Lisovynya38   40   Male      143   \n",
       "2            2     Ithergue48   24   Male       92   \n",
       "3            3  Chamassasya86   24   Male      100   \n",
       "4            4      Iskosia90   23   Male      131   \n",
       "\n",
       "                                   Item Name  Price  \n",
       "0  Extraction, Quickblade Of Trembling Hands   3.53  \n",
       "1                          Frenzied Scimitar   1.56  \n",
       "2                               Final Critic   4.88  \n",
       "3                                Blindscythe   3.27  \n",
       "4                                       Fury   1.44  "
      ]
     },
     "execution_count": 82,
     "metadata": {},
     "output_type": "execute_result"
    }
   ],
   "source": [
    "# Dependencies and Setup\n",
    "import pandas as pd\n",
    "\n",
    "# File to Load (Remember to Change These)\n",
    "file_to_load = \"Resources/purchase_data.csv\"\n",
    "\n",
    "# Read Purchasing File and store into Pandas data frame\n",
    "purchase_data = pd.read_csv(file_to_load)\n",
    "purchase_data_df = pd.read_csv(file_to_load, encoding=\"utf-8\")\n",
    "\n",
    "df=pd.read_csv(file_to_load, encoding=\"utf-8\")\n",
    "purchase_data.head()\n"
   ]
  },
  {
   "cell_type": "markdown",
   "metadata": {},
   "source": [
    "## Player Count"
   ]
  },
  {
   "cell_type": "markdown",
   "metadata": {},
   "source": [
    "* Display the total number of players\n"
   ]
  },
  {
   "cell_type": "code",
   "execution_count": 250,
   "metadata": {},
   "outputs": [
    {
     "data": {
      "text/plain": [
       "576"
      ]
     },
     "execution_count": 250,
     "metadata": {},
     "output_type": "execute_result"
    }
   ],
   "source": [
    "\n",
    "player_count = len(purchase_data[\"SN\"].value_counts())\n",
    "player_count"
   ]
  },
  {
   "cell_type": "markdown",
   "metadata": {},
   "source": [
    "## Purchasing Analysis (Total)"
   ]
  },
  {
   "cell_type": "markdown",
   "metadata": {},
   "source": [
    "* Run basic calculations to obtain number of unique items, average price, etc.\n",
    "\n",
    "\n",
    "* Create a summary data frame to hold the results\n",
    "\n",
    "\n",
    "* Optional: give the displayed data cleaner formatting\n",
    "\n",
    "\n",
    "* Display the summary data frame\n"
   ]
  },
  {
   "cell_type": "code",
   "execution_count": 273,
   "metadata": {
    "scrolled": true
   },
   "outputs": [
    {
     "data": {
      "text/html": [
       "<div>\n",
       "<style scoped>\n",
       "    .dataframe tbody tr th:only-of-type {\n",
       "        vertical-align: middle;\n",
       "    }\n",
       "\n",
       "    .dataframe tbody tr th {\n",
       "        vertical-align: top;\n",
       "    }\n",
       "\n",
       "    .dataframe thead th {\n",
       "        text-align: right;\n",
       "    }\n",
       "</style>\n",
       "<table border=\"1\" class=\"dataframe\">\n",
       "  <thead>\n",
       "    <tr style=\"text-align: right;\">\n",
       "      <th></th>\n",
       "      <th>unique item</th>\n",
       "      <th>average</th>\n",
       "      <th>number of purchases</th>\n",
       "      <th>total revenue</th>\n",
       "    </tr>\n",
       "  </thead>\n",
       "  <tbody>\n",
       "    <tr>\n",
       "      <td>0</td>\n",
       "      <td>183</td>\n",
       "      <td>3.050987</td>\n",
       "      <td>780</td>\n",
       "      <td>2379.77</td>\n",
       "    </tr>\n",
       "  </tbody>\n",
       "</table>\n",
       "</div>"
      ],
      "text/plain": [
       "   unique item   average  number of purchases  total revenue\n",
       "0          183  3.050987                  780        2379.77"
      ]
     },
     "execution_count": 273,
     "metadata": {},
     "output_type": "execute_result"
    }
   ],
   "source": [
    "unique_item = len((purchase_data[\"Item ID\"]).unique())\n",
    "average = purchase_data[\"Price\"].mean()\n",
    "number_of_purchases= len(purchase_data)\n",
    "total_revenue=purchase_data[\"Price\"].sum()\n",
    "summary_table = pd.DataFrame({\"unique item\": [unique_item],\"average\": average,\"number of purchases\": number_of_purchases,\"total revenue\": total_revenue})\n",
    "summary_table\n",
    "\n",
    "\n",
    "\n",
    "\n",
    "\n",
    "\n"
   ]
  },
  {
   "cell_type": "markdown",
   "metadata": {},
   "source": [
    "## Gender Demographics"
   ]
  },
  {
   "cell_type": "markdown",
   "metadata": {},
   "source": [
    "* Percentage and Count of Male Players\n",
    "\n",
    "\n",
    "* Percentage and Count of Female Players\n",
    "\n",
    "\n",
    "* Percentage and Count of Other / Non-Disclosed\n",
    "\n",
    "\n"
   ]
  },
  {
   "cell_type": "code",
   "execution_count": 278,
   "metadata": {},
   "outputs": [
    {
     "data": {
      "text/html": [
       "<div>\n",
       "<style scoped>\n",
       "    .dataframe tbody tr th:only-of-type {\n",
       "        vertical-align: middle;\n",
       "    }\n",
       "\n",
       "    .dataframe tbody tr th {\n",
       "        vertical-align: top;\n",
       "    }\n",
       "\n",
       "    .dataframe thead th {\n",
       "        text-align: right;\n",
       "    }\n",
       "</style>\n",
       "<table border=\"1\" class=\"dataframe\">\n",
       "  <thead>\n",
       "    <tr style=\"text-align: right;\">\n",
       "      <th></th>\n",
       "      <th>gender_count</th>\n",
       "      <th>percentage_gender</th>\n",
       "    </tr>\n",
       "  </thead>\n",
       "  <tbody>\n",
       "    <tr>\n",
       "      <td>Male</td>\n",
       "      <td>652</td>\n",
       "      <td>83.589744</td>\n",
       "    </tr>\n",
       "    <tr>\n",
       "      <td>Female</td>\n",
       "      <td>113</td>\n",
       "      <td>14.487179</td>\n",
       "    </tr>\n",
       "    <tr>\n",
       "      <td>Other / Non-Disclosed</td>\n",
       "      <td>15</td>\n",
       "      <td>1.923077</td>\n",
       "    </tr>\n",
       "  </tbody>\n",
       "</table>\n",
       "</div>"
      ],
      "text/plain": [
       "                       gender_count  percentage_gender\n",
       "Male                            652          83.589744\n",
       "Female                          113          14.487179\n",
       "Other / Non-Disclosed            15           1.923077"
      ]
     },
     "execution_count": 278,
     "metadata": {},
     "output_type": "execute_result"
    }
   ],
   "source": [
    "gender_count=purchase_data['Gender'].value_counts()\n",
    "percentage_gender=(gender_count/number_of_purchases)*100\n",
    "summary_table= pd.DataFrame({\"gender_count\": gender_count,\n",
    "                              \"percentage_gender\": percentage_gender,\n",
    "                             })\n",
    "summary_table\n"
   ]
  },
  {
   "cell_type": "markdown",
   "metadata": {},
   "source": [
    "\n",
    "## Purchasing Analysis (Gender)"
   ]
  },
  {
   "cell_type": "markdown",
   "metadata": {},
   "source": [
    "* Run basic calculations to obtain purchase count, avg. purchase price, avg. purchase total per person etc. by gender\n",
    "\n",
    "\n",
    "\n",
    "\n",
    "* Create a summary data frame to hold the results\n",
    "\n",
    "\n",
    "* Optional: give the displayed data cleaner formatting\n",
    "\n",
    "\n",
    "* Display the summary data frame"
   ]
  },
  {
   "cell_type": "code",
   "execution_count": 283,
   "metadata": {},
   "outputs": [
    {
     "data": {
      "text/html": [
       "<style  type=\"text/css\" >\n",
       "</style><table id=\"T_88a4dd08_5b6e_11ea_b557_843835427f14\" ><thead>    <tr>        <th class=\"blank level0\" ></th>        <th class=\"col_heading level0 col0\" >Purchase Count</th>        <th class=\"col_heading level0 col1\" >Purchase Average</th>        <th class=\"col_heading level0 col2\" >Purchase Total Person</th>        <th class=\"col_heading level0 col3\" >Avg. Purchase per Per</th>    </tr>    <tr>        <th class=\"index_name level0\" >Gender</th>        <th class=\"blank\" ></th>        <th class=\"blank\" ></th>        <th class=\"blank\" ></th>        <th class=\"blank\" ></th>    </tr></thead><tbody>\n",
       "                <tr>\n",
       "                        <th id=\"T_88a4dd08_5b6e_11ea_b557_843835427f14level0_row0\" class=\"row_heading level0 row0\" >Female</th>\n",
       "                        <td id=\"T_88a4dd08_5b6e_11ea_b557_843835427f14row0_col0\" class=\"data row0 col0\" >$113.00</td>\n",
       "                        <td id=\"T_88a4dd08_5b6e_11ea_b557_843835427f14row0_col1\" class=\"data row0 col1\" >$3.20</td>\n",
       "                        <td id=\"T_88a4dd08_5b6e_11ea_b557_843835427f14row0_col2\" class=\"data row0 col2\" >361.94</td>\n",
       "                        <td id=\"T_88a4dd08_5b6e_11ea_b557_843835427f14row0_col3\" class=\"data row0 col3\" >$3.20</td>\n",
       "            </tr>\n",
       "            <tr>\n",
       "                        <th id=\"T_88a4dd08_5b6e_11ea_b557_843835427f14level0_row1\" class=\"row_heading level0 row1\" >Male</th>\n",
       "                        <td id=\"T_88a4dd08_5b6e_11ea_b557_843835427f14row1_col0\" class=\"data row1 col0\" >$652.00</td>\n",
       "                        <td id=\"T_88a4dd08_5b6e_11ea_b557_843835427f14row1_col1\" class=\"data row1 col1\" >$3.02</td>\n",
       "                        <td id=\"T_88a4dd08_5b6e_11ea_b557_843835427f14row1_col2\" class=\"data row1 col2\" >1967.64</td>\n",
       "                        <td id=\"T_88a4dd08_5b6e_11ea_b557_843835427f14row1_col3\" class=\"data row1 col3\" >$3.02</td>\n",
       "            </tr>\n",
       "            <tr>\n",
       "                        <th id=\"T_88a4dd08_5b6e_11ea_b557_843835427f14level0_row2\" class=\"row_heading level0 row2\" >Other / Non-Disclosed</th>\n",
       "                        <td id=\"T_88a4dd08_5b6e_11ea_b557_843835427f14row2_col0\" class=\"data row2 col0\" >$15.00</td>\n",
       "                        <td id=\"T_88a4dd08_5b6e_11ea_b557_843835427f14row2_col1\" class=\"data row2 col1\" >$3.35</td>\n",
       "                        <td id=\"T_88a4dd08_5b6e_11ea_b557_843835427f14row2_col2\" class=\"data row2 col2\" >50.19</td>\n",
       "                        <td id=\"T_88a4dd08_5b6e_11ea_b557_843835427f14row2_col3\" class=\"data row2 col3\" >$3.35</td>\n",
       "            </tr>\n",
       "    </tbody></table>"
      ],
      "text/plain": [
       "<pandas.io.formats.style.Styler at 0x11ffce5d0>"
      ]
     },
     "execution_count": 283,
     "metadata": {},
     "output_type": "execute_result"
    }
   ],
   "source": [
    "gender_general = purchase_data.groupby(\"Gender\")\n",
    "\n",
    "purchase_count = (gender_general[\"Purchase ID\"]).count()\n",
    "\n",
    "\n",
    "purchase_average=(gender_general[\"Price\"]).mean()\n",
    "\n",
    "purchase_total_person=(gender_general[\"Price\"]).sum()\n",
    "\n",
    "average_purchase_total_person=purchase_total_person/gender_count\n",
    "\n",
    "\n",
    "purchasing_analysis_gender= pd.DataFrame({\"Purchase Count\": purchase_count,\"Purchase Average\": purchase_average,\"Purchase Total Person\": purchase_total_person, \"Avg. Purchase per Per\": average_purchase_total_person\n",
    "                             })\n",
    "purchasing_analysis_gender.style.format({\"Purchase Count\":\"${:,.2f}\",\n",
    "                                  \"Purchase Average\":\"${:,.2f}\",\n",
    "                                  \"Avg. Purchase per Per\":\"${:,.2f}\"})\n",
    "\n",
    "\n",
    "\n",
    "\n",
    "\n",
    "\n",
    "\n"
   ]
  },
  {
   "cell_type": "code",
   "execution_count": null,
   "metadata": {},
   "outputs": [],
   "source": []
  },
  {
   "cell_type": "markdown",
   "metadata": {},
   "source": [
    "## Age Demographics"
   ]
  },
  {
   "cell_type": "markdown",
   "metadata": {},
   "source": [
    "* Establish bins for ages\n",
    "\n",
    "\n",
    "* Categorize the existing players using the age bins. Hint: use pd.cut()\n",
    "\n",
    "\n",
    "* Calculate the numbers and percentages by age group\n",
    "\n",
    "\n",
    "* Create a summary data frame to hold the results\n",
    "\n",
    "\n",
    "* Optional: round the percentage column to two decimal points\n",
    "\n",
    "\n",
    "* Display Age Demographics Table\n"
   ]
  },
  {
   "cell_type": "code",
   "execution_count": 291,
   "metadata": {},
   "outputs": [
    {
     "data": {
      "text/html": [
       "<div>\n",
       "<style scoped>\n",
       "    .dataframe tbody tr th:only-of-type {\n",
       "        vertical-align: middle;\n",
       "    }\n",
       "\n",
       "    .dataframe tbody tr th {\n",
       "        vertical-align: top;\n",
       "    }\n",
       "\n",
       "    .dataframe thead th {\n",
       "        text-align: right;\n",
       "    }\n",
       "</style>\n",
       "<table border=\"1\" class=\"dataframe\">\n",
       "  <thead>\n",
       "    <tr style=\"text-align: right;\">\n",
       "      <th></th>\n",
       "      <th>Total Count</th>\n",
       "      <th>Percentage of Players</th>\n",
       "    </tr>\n",
       "    <tr>\n",
       "      <th>Age Group</th>\n",
       "      <th></th>\n",
       "      <th></th>\n",
       "    </tr>\n",
       "  </thead>\n",
       "  <tbody>\n",
       "    <tr>\n",
       "      <td>&lt;10</td>\n",
       "      <td>17</td>\n",
       "      <td>2.951389</td>\n",
       "    </tr>\n",
       "    <tr>\n",
       "      <td>10-14</td>\n",
       "      <td>22</td>\n",
       "      <td>3.819444</td>\n",
       "    </tr>\n",
       "    <tr>\n",
       "      <td>15-19</td>\n",
       "      <td>107</td>\n",
       "      <td>18.576389</td>\n",
       "    </tr>\n",
       "    <tr>\n",
       "      <td>20-24</td>\n",
       "      <td>258</td>\n",
       "      <td>44.791667</td>\n",
       "    </tr>\n",
       "    <tr>\n",
       "      <td>25-29</td>\n",
       "      <td>77</td>\n",
       "      <td>13.368056</td>\n",
       "    </tr>\n",
       "    <tr>\n",
       "      <td>30-34</td>\n",
       "      <td>52</td>\n",
       "      <td>9.027778</td>\n",
       "    </tr>\n",
       "    <tr>\n",
       "      <td>35-39</td>\n",
       "      <td>31</td>\n",
       "      <td>5.381944</td>\n",
       "    </tr>\n",
       "    <tr>\n",
       "      <td>40+</td>\n",
       "      <td>12</td>\n",
       "      <td>2.083333</td>\n",
       "    </tr>\n",
       "  </tbody>\n",
       "</table>\n",
       "</div>"
      ],
      "text/plain": [
       "           Total Count  Percentage of Players\n",
       "Age Group                                    \n",
       "<10                 17               2.951389\n",
       "10-14               22               3.819444\n",
       "15-19              107              18.576389\n",
       "20-24              258              44.791667\n",
       "25-29               77              13.368056\n",
       "30-34               52               9.027778\n",
       "35-39               31               5.381944\n",
       "40+                 12               2.083333"
      ]
     },
     "execution_count": 291,
     "metadata": {},
     "output_type": "execute_result"
    }
   ],
   "source": [
    "age_bins = [0, 9.90, 14.90, 19.90, 24.90, 29.90, 34.90, 39.90, 99999]\n",
    "group_names = [\"<10\", \"10-14\", \"15-19\", \"20-24\", \"25-29\", \"30-34\", \"35-39\", \"40+\"]\n",
    "purchase_data[\"Age Group\"] = pd.cut(purchase_data[\"Age\"],age_bins, labels=group_names)\n",
    "\n",
    "age_grouped = purchase_data.groupby(\"Age Group\")\n",
    "\n",
    "total_count_age = age_grouped[\"SN\"].nunique()\n",
    "\n",
    "percent_age = (total_count_age/player_count) * 100\n",
    "\n",
    "age_demographics = pd.DataFrame({\"Total Count\": total_count_age,\"Percentage of Players\": percent_age})\n",
    "age_demographics\n"
   ]
  },
  {
   "cell_type": "markdown",
   "metadata": {},
   "source": [
    "## Purchasing Analysis (Age)"
   ]
  },
  {
   "cell_type": "markdown",
   "metadata": {},
   "source": [
    "* Bin the purchase_data data frame by age\n",
    "\n",
    "\n",
    "* Run basic calculations to obtain purchase count, avg. purchase price, avg. purchase total per person etc. in the table below\n",
    "\n",
    "\n",
    "* Create a summary data frame to hold the results\n",
    "\n",
    "\n",
    "* Optional: give the displayed data cleaner formatting\n",
    "\n",
    "\n",
    "* Display the summary data frame"
   ]
  },
  {
   "cell_type": "code",
   "execution_count": 309,
   "metadata": {},
   "outputs": [
    {
     "data": {
      "text/html": [
       "<style  type=\"text/css\" >\n",
       "</style><table id=\"T_63916806_5b73_11ea_b557_843835427f14\" ><thead>    <tr>        <th class=\"blank level0\" ></th>        <th class=\"col_heading level0 col0\" >purchase count</th>        <th class=\"col_heading level0 col1\" >average purchase price</th>        <th class=\"col_heading level0 col2\" >total purchase value</th>        <th class=\"col_heading level0 col3\" >average total purchases per person</th>    </tr>    <tr>        <th class=\"index_name level0\" >Age Group</th>        <th class=\"blank\" ></th>        <th class=\"blank\" ></th>        <th class=\"blank\" ></th>        <th class=\"blank\" ></th>    </tr></thead><tbody>\n",
       "                <tr>\n",
       "                        <th id=\"T_63916806_5b73_11ea_b557_843835427f14level0_row0\" class=\"row_heading level0 row0\" ><10</th>\n",
       "                        <td id=\"T_63916806_5b73_11ea_b557_843835427f14row0_col0\" class=\"data row0 col0\" >23</td>\n",
       "                        <td id=\"T_63916806_5b73_11ea_b557_843835427f14row0_col1\" class=\"data row0 col1\" >$3.35</td>\n",
       "                        <td id=\"T_63916806_5b73_11ea_b557_843835427f14row0_col2\" class=\"data row0 col2\" >$77.13</td>\n",
       "                        <td id=\"T_63916806_5b73_11ea_b557_843835427f14row0_col3\" class=\"data row0 col3\" >4.53706</td>\n",
       "            </tr>\n",
       "            <tr>\n",
       "                        <th id=\"T_63916806_5b73_11ea_b557_843835427f14level0_row1\" class=\"row_heading level0 row1\" >10-14</th>\n",
       "                        <td id=\"T_63916806_5b73_11ea_b557_843835427f14row1_col0\" class=\"data row1 col0\" >28</td>\n",
       "                        <td id=\"T_63916806_5b73_11ea_b557_843835427f14row1_col1\" class=\"data row1 col1\" >$2.96</td>\n",
       "                        <td id=\"T_63916806_5b73_11ea_b557_843835427f14row1_col2\" class=\"data row1 col2\" >$82.78</td>\n",
       "                        <td id=\"T_63916806_5b73_11ea_b557_843835427f14row1_col3\" class=\"data row1 col3\" >3.76273</td>\n",
       "            </tr>\n",
       "            <tr>\n",
       "                        <th id=\"T_63916806_5b73_11ea_b557_843835427f14level0_row2\" class=\"row_heading level0 row2\" >15-19</th>\n",
       "                        <td id=\"T_63916806_5b73_11ea_b557_843835427f14row2_col0\" class=\"data row2 col0\" >136</td>\n",
       "                        <td id=\"T_63916806_5b73_11ea_b557_843835427f14row2_col1\" class=\"data row2 col1\" >$3.04</td>\n",
       "                        <td id=\"T_63916806_5b73_11ea_b557_843835427f14row2_col2\" class=\"data row2 col2\" >$412.89</td>\n",
       "                        <td id=\"T_63916806_5b73_11ea_b557_843835427f14row2_col3\" class=\"data row2 col3\" >3.85879</td>\n",
       "            </tr>\n",
       "            <tr>\n",
       "                        <th id=\"T_63916806_5b73_11ea_b557_843835427f14level0_row3\" class=\"row_heading level0 row3\" >20-24</th>\n",
       "                        <td id=\"T_63916806_5b73_11ea_b557_843835427f14row3_col0\" class=\"data row3 col0\" >365</td>\n",
       "                        <td id=\"T_63916806_5b73_11ea_b557_843835427f14row3_col1\" class=\"data row3 col1\" >$3.05</td>\n",
       "                        <td id=\"T_63916806_5b73_11ea_b557_843835427f14row3_col2\" class=\"data row3 col2\" >$1,114.06</td>\n",
       "                        <td id=\"T_63916806_5b73_11ea_b557_843835427f14row3_col3\" class=\"data row3 col3\" >4.31806</td>\n",
       "            </tr>\n",
       "            <tr>\n",
       "                        <th id=\"T_63916806_5b73_11ea_b557_843835427f14level0_row4\" class=\"row_heading level0 row4\" >25-29</th>\n",
       "                        <td id=\"T_63916806_5b73_11ea_b557_843835427f14row4_col0\" class=\"data row4 col0\" >101</td>\n",
       "                        <td id=\"T_63916806_5b73_11ea_b557_843835427f14row4_col1\" class=\"data row4 col1\" >$2.90</td>\n",
       "                        <td id=\"T_63916806_5b73_11ea_b557_843835427f14row4_col2\" class=\"data row4 col2\" >$293.00</td>\n",
       "                        <td id=\"T_63916806_5b73_11ea_b557_843835427f14row4_col3\" class=\"data row4 col3\" >3.80519</td>\n",
       "            </tr>\n",
       "            <tr>\n",
       "                        <th id=\"T_63916806_5b73_11ea_b557_843835427f14level0_row5\" class=\"row_heading level0 row5\" >30-34</th>\n",
       "                        <td id=\"T_63916806_5b73_11ea_b557_843835427f14row5_col0\" class=\"data row5 col0\" >73</td>\n",
       "                        <td id=\"T_63916806_5b73_11ea_b557_843835427f14row5_col1\" class=\"data row5 col1\" >$2.93</td>\n",
       "                        <td id=\"T_63916806_5b73_11ea_b557_843835427f14row5_col2\" class=\"data row5 col2\" >$214.00</td>\n",
       "                        <td id=\"T_63916806_5b73_11ea_b557_843835427f14row5_col3\" class=\"data row5 col3\" >4.11538</td>\n",
       "            </tr>\n",
       "            <tr>\n",
       "                        <th id=\"T_63916806_5b73_11ea_b557_843835427f14level0_row6\" class=\"row_heading level0 row6\" >35-39</th>\n",
       "                        <td id=\"T_63916806_5b73_11ea_b557_843835427f14row6_col0\" class=\"data row6 col0\" >41</td>\n",
       "                        <td id=\"T_63916806_5b73_11ea_b557_843835427f14row6_col1\" class=\"data row6 col1\" >$3.60</td>\n",
       "                        <td id=\"T_63916806_5b73_11ea_b557_843835427f14row6_col2\" class=\"data row6 col2\" >$147.67</td>\n",
       "                        <td id=\"T_63916806_5b73_11ea_b557_843835427f14row6_col3\" class=\"data row6 col3\" >4.76355</td>\n",
       "            </tr>\n",
       "            <tr>\n",
       "                        <th id=\"T_63916806_5b73_11ea_b557_843835427f14level0_row7\" class=\"row_heading level0 row7\" >40+</th>\n",
       "                        <td id=\"T_63916806_5b73_11ea_b557_843835427f14row7_col0\" class=\"data row7 col0\" >13</td>\n",
       "                        <td id=\"T_63916806_5b73_11ea_b557_843835427f14row7_col1\" class=\"data row7 col1\" >$2.94</td>\n",
       "                        <td id=\"T_63916806_5b73_11ea_b557_843835427f14row7_col2\" class=\"data row7 col2\" >$38.24</td>\n",
       "                        <td id=\"T_63916806_5b73_11ea_b557_843835427f14row7_col3\" class=\"data row7 col3\" >3.18667</td>\n",
       "            </tr>\n",
       "    </tbody></table>"
      ],
      "text/plain": [
       "<pandas.io.formats.style.Styler at 0x120a44b10>"
      ]
     },
     "execution_count": 309,
     "metadata": {},
     "output_type": "execute_result"
    }
   ],
   "source": [
    "purchase_count_age=(age_grouped[\"Purchase ID\"]).count()\n",
    "purchase_average_age=(age_grouped[\"Price\"]).mean()\n",
    "purchase_total_person_age=(age_grouped[\"Price\"]).sum()\n",
    "average_purchase_total_person=purchase_total_person_age/total_count_age\n",
    "purchasing_analysis_age = pd.DataFrame({\"purchase count\": purchase_count_age,\"average purchase price\": purchase_average_age,\"total purchase value\":purchase_total_person_age,\"average total purchases per person\":average_purchase_total_person\n",
    "                                       })\n",
    "purchasing_analysis_age.style.format({\"average purchase price\":\"${:,.2f}\",\n",
    "                               \"total purchase value\":\"${:,.2f}\"\n",
    "                               })\n",
    "\n",
    "\n"
   ]
  },
  {
   "cell_type": "markdown",
   "metadata": {},
   "source": [
    "## Top Spenders"
   ]
  },
  {
   "cell_type": "markdown",
   "metadata": {},
   "source": [
    "* Run basic calculations to obtain the results in the table below\n",
    "\n",
    "\n",
    "* Create a summary data frame to hold the results\n",
    "\n",
    "\n",
    "* Sort the total purchase value column in descending order\n",
    "\n",
    "\n",
    "* Optional: give the displayed data cleaner formatting\n",
    "\n",
    "\n",
    "* Display a preview of the summary data frame\n",
    "\n"
   ]
  },
  {
   "cell_type": "code",
   "execution_count": 332,
   "metadata": {},
   "outputs": [
    {
     "data": {
      "text/html": [
       "<style  type=\"text/css\" >\n",
       "</style><table id=\"T_340b8514_5b76_11ea_b557_843835427f14\" ><thead>    <tr>        <th class=\"blank level0\" ></th>        <th class=\"col_heading level0 col0\" >purchase count </th>        <th class=\"col_heading level0 col1\" >average purchase price</th>        <th class=\"col_heading level0 col2\" >total purchase value</th>    </tr>    <tr>        <th class=\"index_name level0\" >SN</th>        <th class=\"blank\" ></th>        <th class=\"blank\" ></th>        <th class=\"blank\" ></th>    </tr></thead><tbody>\n",
       "                <tr>\n",
       "                        <th id=\"T_340b8514_5b76_11ea_b557_843835427f14level0_row0\" class=\"row_heading level0 row0\" >Lisosia93</th>\n",
       "                        <td id=\"T_340b8514_5b76_11ea_b557_843835427f14row0_col0\" class=\"data row0 col0\" >5</td>\n",
       "                        <td id=\"T_340b8514_5b76_11ea_b557_843835427f14row0_col1\" class=\"data row0 col1\" >$3.79</td>\n",
       "                        <td id=\"T_340b8514_5b76_11ea_b557_843835427f14row0_col2\" class=\"data row0 col2\" >$18.96</td>\n",
       "            </tr>\n",
       "            <tr>\n",
       "                        <th id=\"T_340b8514_5b76_11ea_b557_843835427f14level0_row1\" class=\"row_heading level0 row1\" >Idastidru52</th>\n",
       "                        <td id=\"T_340b8514_5b76_11ea_b557_843835427f14row1_col0\" class=\"data row1 col0\" >4</td>\n",
       "                        <td id=\"T_340b8514_5b76_11ea_b557_843835427f14row1_col1\" class=\"data row1 col1\" >$3.86</td>\n",
       "                        <td id=\"T_340b8514_5b76_11ea_b557_843835427f14row1_col2\" class=\"data row1 col2\" >$15.45</td>\n",
       "            </tr>\n",
       "            <tr>\n",
       "                        <th id=\"T_340b8514_5b76_11ea_b557_843835427f14level0_row2\" class=\"row_heading level0 row2\" >Chamjask73</th>\n",
       "                        <td id=\"T_340b8514_5b76_11ea_b557_843835427f14row2_col0\" class=\"data row2 col0\" >3</td>\n",
       "                        <td id=\"T_340b8514_5b76_11ea_b557_843835427f14row2_col1\" class=\"data row2 col1\" >$4.61</td>\n",
       "                        <td id=\"T_340b8514_5b76_11ea_b557_843835427f14row2_col2\" class=\"data row2 col2\" >$13.83</td>\n",
       "            </tr>\n",
       "            <tr>\n",
       "                        <th id=\"T_340b8514_5b76_11ea_b557_843835427f14level0_row3\" class=\"row_heading level0 row3\" >Iral74</th>\n",
       "                        <td id=\"T_340b8514_5b76_11ea_b557_843835427f14row3_col0\" class=\"data row3 col0\" >4</td>\n",
       "                        <td id=\"T_340b8514_5b76_11ea_b557_843835427f14row3_col1\" class=\"data row3 col1\" >$3.40</td>\n",
       "                        <td id=\"T_340b8514_5b76_11ea_b557_843835427f14row3_col2\" class=\"data row3 col2\" >$13.62</td>\n",
       "            </tr>\n",
       "            <tr>\n",
       "                        <th id=\"T_340b8514_5b76_11ea_b557_843835427f14level0_row4\" class=\"row_heading level0 row4\" >Iskadarya95</th>\n",
       "                        <td id=\"T_340b8514_5b76_11ea_b557_843835427f14row4_col0\" class=\"data row4 col0\" >3</td>\n",
       "                        <td id=\"T_340b8514_5b76_11ea_b557_843835427f14row4_col1\" class=\"data row4 col1\" >$4.37</td>\n",
       "                        <td id=\"T_340b8514_5b76_11ea_b557_843835427f14row4_col2\" class=\"data row4 col2\" >$13.10</td>\n",
       "            </tr>\n",
       "    </tbody></table>"
      ],
      "text/plain": [
       "<pandas.io.formats.style.Styler at 0x120a89a90>"
      ]
     },
     "execution_count": 332,
     "metadata": {},
     "output_type": "execute_result"
    }
   ],
   "source": [
    "spender_info=purchase_data.groupby(\"SN\")\n",
    "purchase_count_spenders=spender_info[\"Purchase ID\"].count()\n",
    "purchase_average_spenders=spender_info[\"Price\"].mean()\n",
    "purchase_total_person_spenders=spender_info[\"Price\"].sum()\n",
    "spender_info_top = pd.DataFrame({\"purchase count \": purchase_count_spenders,\"average purchase price\": purchase_average_spenders,\"total purchase value\":purchase_total_person_spenders\n",
    "                                       })\n",
    "spender_sorted= spender_info_top.sort_values(\"total purchase value\",ascending=False).head()\n",
    "spender_sorted\n",
    "spender_sorted.style.format({\"average purchase price\":\"${:,.2f}\",\n",
    "                             \"total purchase value\":\"${:,.2f}\"\n",
    "                               })\n",
    "\n"
   ]
  },
  {
   "cell_type": "markdown",
   "metadata": {},
   "source": [
    "## Most Popular Items"
   ]
  },
  {
   "cell_type": "markdown",
   "metadata": {},
   "source": [
    "* Retrieve the Item ID, Item Name, and Item Price columns\n",
    "\n",
    "\n",
    "* Group by Item ID and Item Name. Perform calculations to obtain purchase count, item price, and total purchase value\n",
    "\n",
    "\n",
    "* Create a summary data frame to hold the results\n",
    "\n",
    "\n",
    "* Sort the purchase count column in descending order\n",
    "\n",
    "\n",
    "* Optional: give the displayed data cleaner formatting\n",
    "\n",
    "\n",
    "* Display a preview of the summary data frame\n",
    "\n"
   ]
  },
  {
   "cell_type": "code",
   "execution_count": 350,
   "metadata": {},
   "outputs": [
    {
     "data": {
      "text/html": [
       "<div>\n",
       "<style scoped>\n",
       "    .dataframe tbody tr th:only-of-type {\n",
       "        vertical-align: middle;\n",
       "    }\n",
       "\n",
       "    .dataframe tbody tr th {\n",
       "        vertical-align: top;\n",
       "    }\n",
       "\n",
       "    .dataframe thead th {\n",
       "        text-align: right;\n",
       "    }\n",
       "</style>\n",
       "<table border=\"1\" class=\"dataframe\">\n",
       "  <thead>\n",
       "    <tr style=\"text-align: right;\">\n",
       "      <th></th>\n",
       "      <th></th>\n",
       "      <th>purchase count</th>\n",
       "      <th>item price</th>\n",
       "      <th>total purchase value</th>\n",
       "    </tr>\n",
       "    <tr>\n",
       "      <th>Item ID</th>\n",
       "      <th>Item Name</th>\n",
       "      <th></th>\n",
       "      <th></th>\n",
       "      <th></th>\n",
       "    </tr>\n",
       "  </thead>\n",
       "  <tbody>\n",
       "    <tr>\n",
       "      <td>0</td>\n",
       "      <td>Splinter</td>\n",
       "      <td>4</td>\n",
       "      <td>0.781250</td>\n",
       "      <td>5.12</td>\n",
       "    </tr>\n",
       "    <tr>\n",
       "      <td>1</td>\n",
       "      <td>Crucifer</td>\n",
       "      <td>3</td>\n",
       "      <td>0.306748</td>\n",
       "      <td>9.78</td>\n",
       "    </tr>\n",
       "    <tr>\n",
       "      <td>2</td>\n",
       "      <td>Verdict</td>\n",
       "      <td>6</td>\n",
       "      <td>0.403226</td>\n",
       "      <td>14.88</td>\n",
       "    </tr>\n",
       "    <tr>\n",
       "      <td>3</td>\n",
       "      <td>Phantomlight</td>\n",
       "      <td>6</td>\n",
       "      <td>0.401606</td>\n",
       "      <td>14.94</td>\n",
       "    </tr>\n",
       "    <tr>\n",
       "      <td>4</td>\n",
       "      <td>Bloodlord's Fetish</td>\n",
       "      <td>5</td>\n",
       "      <td>0.588235</td>\n",
       "      <td>8.50</td>\n",
       "    </tr>\n",
       "    <tr>\n",
       "      <td>...</td>\n",
       "      <td>...</td>\n",
       "      <td>...</td>\n",
       "      <td>...</td>\n",
       "      <td>...</td>\n",
       "    </tr>\n",
       "    <tr>\n",
       "      <td>179</td>\n",
       "      <td>Wolf, Promise of the Moonwalker</td>\n",
       "      <td>6</td>\n",
       "      <td>0.223214</td>\n",
       "      <td>26.88</td>\n",
       "    </tr>\n",
       "    <tr>\n",
       "      <td>180</td>\n",
       "      <td>Stormcaller</td>\n",
       "      <td>1</td>\n",
       "      <td>0.297619</td>\n",
       "      <td>3.36</td>\n",
       "    </tr>\n",
       "    <tr>\n",
       "      <td>181</td>\n",
       "      <td>Reaper's Toll</td>\n",
       "      <td>5</td>\n",
       "      <td>0.602410</td>\n",
       "      <td>8.30</td>\n",
       "    </tr>\n",
       "    <tr>\n",
       "      <td>182</td>\n",
       "      <td>Toothpick</td>\n",
       "      <td>3</td>\n",
       "      <td>0.248139</td>\n",
       "      <td>12.09</td>\n",
       "    </tr>\n",
       "    <tr>\n",
       "      <td>183</td>\n",
       "      <td>Dragon's Greatsword</td>\n",
       "      <td>3</td>\n",
       "      <td>0.917431</td>\n",
       "      <td>3.27</td>\n",
       "    </tr>\n",
       "  </tbody>\n",
       "</table>\n",
       "<p>183 rows × 3 columns</p>\n",
       "</div>"
      ],
      "text/plain": [
       "                                         purchase count   item price  \\\n",
       "Item ID Item Name                                                      \n",
       "0       Splinter                                       4    0.781250   \n",
       "1       Crucifer                                       3    0.306748   \n",
       "2       Verdict                                        6    0.403226   \n",
       "3       Phantomlight                                   6    0.401606   \n",
       "4       Bloodlord's Fetish                             5    0.588235   \n",
       "...                                                  ...         ...   \n",
       "179     Wolf, Promise of the Moonwalker                6    0.223214   \n",
       "180     Stormcaller                                    1    0.297619   \n",
       "181     Reaper's Toll                                  5    0.602410   \n",
       "182     Toothpick                                      3    0.248139   \n",
       "183     Dragon's Greatsword                            3    0.917431   \n",
       "\n",
       "                                         total purchase value  \n",
       "Item ID Item Name                                              \n",
       "0       Splinter                                         5.12  \n",
       "1       Crucifer                                         9.78  \n",
       "2       Verdict                                         14.88  \n",
       "3       Phantomlight                                    14.94  \n",
       "4       Bloodlord's Fetish                               8.50  \n",
       "...                                                       ...  \n",
       "179     Wolf, Promise of the Moonwalker                 26.88  \n",
       "180     Stormcaller                                      3.36  \n",
       "181     Reaper's Toll                                    8.30  \n",
       "182     Toothpick                                       12.09  \n",
       "183     Dragon's Greatsword                              3.27  \n",
       "\n",
       "[183 rows x 3 columns]"
      ]
     },
     "execution_count": 350,
     "metadata": {},
     "output_type": "execute_result"
    }
   ],
   "source": [
    "new_items=purchase_data[[\"Item ID\",\"Item Name\",\"Price\"]]\n",
    "popular_items=new_items.groupby([\"Item ID\",\"Item Name\"])\n",
    "purchase_count_pop=popular_items[\"Price\"].count()\n",
    "purchase_total_person_pop=popular_items[\"Price\"].sum()\n",
    "item_price_pop=purchase_count_pop/purchase_total_person_pop\n",
    "most_popular_items = pd.DataFrame({\"purchase count \": purchase_count_pop,\"item price\": item_price_pop,\"total purchase value\":purchase_total_person_pop\n",
    "                                       })\n",
    "most_popular_items"
   ]
  },
  {
   "cell_type": "markdown",
   "metadata": {},
   "source": [
    "## Most Profitable Items"
   ]
  },
  {
   "cell_type": "markdown",
   "metadata": {},
   "source": [
    "* Sort the above table by total purchase value in descending order\n",
    "\n",
    "\n",
    "* Optional: give the displayed data cleaner formatting\n",
    "\n",
    "\n",
    "* Display a preview of the data frame\n",
    "\n"
   ]
  },
  {
   "cell_type": "code",
   "execution_count": 353,
   "metadata": {
    "scrolled": true
   },
   "outputs": [
    {
     "data": {
      "text/html": [
       "<div>\n",
       "<style scoped>\n",
       "    .dataframe tbody tr th:only-of-type {\n",
       "        vertical-align: middle;\n",
       "    }\n",
       "\n",
       "    .dataframe tbody tr th {\n",
       "        vertical-align: top;\n",
       "    }\n",
       "\n",
       "    .dataframe thead th {\n",
       "        text-align: right;\n",
       "    }\n",
       "</style>\n",
       "<table border=\"1\" class=\"dataframe\">\n",
       "  <thead>\n",
       "    <tr style=\"text-align: right;\">\n",
       "      <th></th>\n",
       "      <th></th>\n",
       "      <th>purchase count</th>\n",
       "      <th>item price</th>\n",
       "      <th>total purchase value</th>\n",
       "    </tr>\n",
       "    <tr>\n",
       "      <th>Item ID</th>\n",
       "      <th>Item Name</th>\n",
       "      <th></th>\n",
       "      <th></th>\n",
       "      <th></th>\n",
       "    </tr>\n",
       "  </thead>\n",
       "  <tbody>\n",
       "    <tr>\n",
       "      <td>178</td>\n",
       "      <td>Oathbreaker, Last Hope of the Breaking Storm</td>\n",
       "      <td>12</td>\n",
       "      <td>0.236407</td>\n",
       "      <td>50.76</td>\n",
       "    </tr>\n",
       "    <tr>\n",
       "      <td>82</td>\n",
       "      <td>Nirvana</td>\n",
       "      <td>9</td>\n",
       "      <td>0.204082</td>\n",
       "      <td>44.10</td>\n",
       "    </tr>\n",
       "    <tr>\n",
       "      <td>145</td>\n",
       "      <td>Fiery Glass Crusader</td>\n",
       "      <td>9</td>\n",
       "      <td>0.218341</td>\n",
       "      <td>41.22</td>\n",
       "    </tr>\n",
       "    <tr>\n",
       "      <td>92</td>\n",
       "      <td>Final Critic</td>\n",
       "      <td>8</td>\n",
       "      <td>0.204918</td>\n",
       "      <td>39.04</td>\n",
       "    </tr>\n",
       "    <tr>\n",
       "      <td>103</td>\n",
       "      <td>Singed Scalpel</td>\n",
       "      <td>8</td>\n",
       "      <td>0.229885</td>\n",
       "      <td>34.80</td>\n",
       "    </tr>\n",
       "  </tbody>\n",
       "</table>\n",
       "</div>"
      ],
      "text/plain": [
       "                                                      purchase count   \\\n",
       "Item ID Item Name                                                       \n",
       "178     Oathbreaker, Last Hope of the Breaking Storm               12   \n",
       "82      Nirvana                                                     9   \n",
       "145     Fiery Glass Crusader                                        9   \n",
       "92      Final Critic                                                8   \n",
       "103     Singed Scalpel                                              8   \n",
       "\n",
       "                                                      item price  \\\n",
       "Item ID Item Name                                                  \n",
       "178     Oathbreaker, Last Hope of the Breaking Storm    0.236407   \n",
       "82      Nirvana                                         0.204082   \n",
       "145     Fiery Glass Crusader                            0.218341   \n",
       "92      Final Critic                                    0.204918   \n",
       "103     Singed Scalpel                                  0.229885   \n",
       "\n",
       "                                                      total purchase value  \n",
       "Item ID Item Name                                                           \n",
       "178     Oathbreaker, Last Hope of the Breaking Storm                 50.76  \n",
       "82      Nirvana                                                      44.10  \n",
       "145     Fiery Glass Crusader                                         41.22  \n",
       "92      Final Critic                                                 39.04  \n",
       "103     Singed Scalpel                                               34.80  "
      ]
     },
     "execution_count": 353,
     "metadata": {},
     "output_type": "execute_result"
    }
   ],
   "source": [
    "most_profitable_sorted = most_popular_items.sort_values([\"total purchase value\"],\n",
    "                                                   ascending=False).head()\n",
    "most_profitable_sorted"
   ]
  },
  {
   "cell_type": "code",
   "execution_count": null,
   "metadata": {},
   "outputs": [],
   "source": []
  }
 ],
 "metadata": {
  "anaconda-cloud": {},
  "kernel_info": {
   "name": "python3"
  },
  "kernelspec": {
   "display_name": "Python 3",
   "language": "python",
   "name": "python3"
  },
  "language_info": {
   "codemirror_mode": {
    "name": "ipython",
    "version": 3
   },
   "file_extension": ".py",
   "mimetype": "text/x-python",
   "name": "python",
   "nbconvert_exporter": "python",
   "pygments_lexer": "ipython3",
   "version": "3.7.4"
  },
  "latex_envs": {
   "LaTeX_envs_menu_present": true,
   "autoclose": false,
   "autocomplete": true,
   "bibliofile": "biblio.bib",
   "cite_by": "apalike",
   "current_citInitial": 1,
   "eqLabelWithNumbers": true,
   "eqNumInitial": 1,
   "hotkeys": {
    "equation": "Ctrl-E",
    "itemize": "Ctrl-I"
   },
   "labels_anchors": false,
   "latex_user_defs": false,
   "report_style_numbering": false,
   "user_envs_cfg": false
  },
  "nteract": {
   "version": "0.2.0"
  }
 },
 "nbformat": 4,
 "nbformat_minor": 2
}
